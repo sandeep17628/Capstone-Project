{
 "cells": [
  {
   "cell_type": "markdown",
   "metadata": {
    "colab_type": "text",
    "id": "mlzFcVVK_i7B"
   },
   "source": [
    "# SANDEEP BHAGAT - MINST DATA "
   ]
  },
  {
   "cell_type": "markdown",
   "metadata": {
    "colab_type": "text",
    "id": "06nAr8uu_qSg"
   },
   "source": [
    "**STEP 1 : Data Loading & Prepration**"
   ]
  },
  {
   "cell_type": "code",
   "execution_count": 3,
   "metadata": {
    "colab": {
     "base_uri": "https://localhost:8080/",
     "height": 104
    },
    "colab_type": "code",
    "id": "51wLNul__pdX",
    "outputId": "2d054d0b-da66-4b20-aa82-e3ac61fa9f2b"
   },
   "outputs": [
    {
     "name": "stderr",
     "output_type": "stream",
     "text": [
      "Using TensorFlow backend.\n"
     ]
    },
    {
     "name": "stdout",
     "output_type": "stream",
     "text": [
      "Downloading data from https://s3.amazonaws.com/img-datasets/mnist.npz\n",
      "11493376/11490434 [==============================] - 0s 0us/step\n",
      "Training data shape:  (60000, 28, 28, 1)\n",
      "Test data shape (10000, 28, 28, 1)\n"
     ]
    }
   ],
   "source": [
    "from keras.datasets import mnist\n",
    "from matplotlib import pyplot\n",
    "from tensorflow.keras.utils import to_categorical\n",
    "\n",
    "# Load mnist dataset\n",
    "(x_train, y_train), (x_test, y_test) = mnist.load_data()\n",
    "\n",
    "n_train_img = x_train.shape[0]\n",
    "n_test_images = x_test.shape[0]\n",
    "x_dim, y_dim = x_test.shape[1:]\n",
    "\n",
    "x_train = x_train.reshape((n_train_img, x_dim, y_dim, 1))\n",
    "x_train = x_train.astype('float32') / 255\n",
    "\n",
    "x_test = x_test.reshape((n_test_images, x_dim, y_dim, 1))\n",
    "x_test = x_test.astype('float32') / 255\n",
    "\n",
    "y_train = to_categorical(y_train)\n",
    "y_test =  to_categorical(y_test)\n",
    "\n",
    "print(\"Training data shape: \", x_train.shape)  \n",
    "print(\"Test data shape\", x_test.shape) "
   ]
  },
  {
   "cell_type": "markdown",
   "metadata": {
    "colab_type": "text",
    "id": "cWZciIu8AUXg"
   },
   "source": [
    "# TASK 1 - Build a Simple Neural Network (CNN) - 32 neurons (feature maps) and a 5x5 feature detectors\n",
    "\n",
    "\n",
    "\n"
   ]
  },
  {
   "cell_type": "markdown",
   "metadata": {
    "colab_type": "text",
    "id": "fMXy3EpzAj9u"
   },
   "source": [
    "**Hypothesis **: Expecting Higher Accuracy (more than 75%)"
   ]
  },
  {
   "cell_type": "code",
   "execution_count": 4,
   "metadata": {
    "colab": {
     "base_uri": "https://localhost:8080/",
     "height": 260
    },
    "colab_type": "code",
    "id": "JCar8355AjMi",
    "outputId": "a4c9a6a4-9c1e-4b67-ca73-cb2e24fd9c27"
   },
   "outputs": [
    {
     "name": "stdout",
     "output_type": "stream",
     "text": [
      "Model: \"sequential_1\"\n",
      "_________________________________________________________________\n",
      "Layer (type)                 Output Shape              Param #   \n",
      "=================================================================\n",
      "conv2d_1 (Conv2D)            (None, 24, 24, 32)        832       \n",
      "_________________________________________________________________\n",
      "flatten_1 (Flatten)          (None, 18432)             0         \n",
      "_________________________________________________________________\n",
      "dense_1 (Dense)              (None, 10)                184330    \n",
      "=================================================================\n",
      "Total params: 185,162\n",
      "Trainable params: 185,162\n",
      "Non-trainable params: 0\n",
      "_________________________________________________________________\n"
     ]
    }
   ],
   "source": [
    "from keras.layers import Dense  \n",
    "from keras.models import Sequential\n",
    "from keras.layers.convolutional import Conv2D\n",
    "from keras.layers import Flatten\n",
    "\n",
    "model = Sequential()\n",
    "model.add(Conv2D(32, (5,5), activation='sigmoid', input_shape=(x_dim, y_dim,1)))\n",
    "model.add(Flatten())\n",
    "model.add(Dense(units=y_test.shape[1], activation='softmax'))\n",
    "model.summary()"
   ]
  },
  {
   "cell_type": "code",
   "execution_count": 0,
   "metadata": {
    "colab": {},
    "colab_type": "code",
    "id": "zqCkgnufBAKI"
   },
   "outputs": [],
   "source": [
    "model.compile(optimizer=\"sgd\", loss='categorical_crossentropy', metrics=['accuracy'])"
   ]
  },
  {
   "cell_type": "code",
   "execution_count": 7,
   "metadata": {
    "colab": {
     "base_uri": "https://localhost:8080/",
     "height": 191
    },
    "colab_type": "code",
    "id": "GaB_5IRABFLJ",
    "outputId": "8dfd7852-a5c9-4692-94b1-eaa160e97791"
   },
   "outputs": [
    {
     "name": "stdout",
     "output_type": "stream",
     "text": [
      "Epoch 1/5\n",
      "60000/60000 [==============================] - 20s 340us/step - loss: 0.3625 - accuracy: 0.8926\n",
      "Epoch 2/5\n",
      "60000/60000 [==============================] - 20s 340us/step - loss: 0.3523 - accuracy: 0.8954\n",
      "Epoch 3/5\n",
      "60000/60000 [==============================] - 20s 340us/step - loss: 0.3424 - accuracy: 0.8986\n",
      "Epoch 4/5\n",
      "60000/60000 [==============================] - 20s 339us/step - loss: 0.3357 - accuracy: 0.9008\n",
      "Epoch 5/5\n",
      "60000/60000 [==============================] - 21s 348us/step - loss: 0.3301 - accuracy: 0.9025\n"
     ]
    }
   ],
   "source": [
    "history = model.fit(x_train, y_train, batch_size=128, epochs=5)"
   ]
  },
  {
   "cell_type": "code",
   "execution_count": 8,
   "metadata": {
    "colab": {
     "base_uri": "https://localhost:8080/",
     "height": 69
    },
    "colab_type": "code",
    "id": "DsDs1CV-BlNd",
    "outputId": "511ddb7b-0b2d-4c0b-aefb-bdd1b068b77d"
   },
   "outputs": [
    {
     "name": "stdout",
     "output_type": "stream",
     "text": [
      "10000/10000 [==============================] - 1s 149us/step\n",
      "Test loss: 0.3053633717060089\n",
      "Test accuracy: 0.9117000102996826\n"
     ]
    }
   ],
   "source": [
    "score = model.evaluate(x_test, y_test)\n",
    "print('Test loss:', score[0])\n",
    "print('Test accuracy:', score[1])"
   ]
  },
  {
   "cell_type": "markdown",
   "metadata": {
    "colab_type": "text",
    "id": "rRJ1ZC0GBqPp"
   },
   "source": [
    "***Hypothesis for this task 1 is correct - more than 75%***"
   ]
  },
  {
   "cell_type": "markdown",
   "metadata": {
    "colab_type": "text",
    "id": "pUYG3LInB6ge"
   },
   "source": [
    "# TASK 2 - Increase the complexity of CNN by adding multiple convolution and dense layers - one convolutional layer with 32 neurons & 5x5 feature detector and a dense layer with 128 nodes."
   ]
  },
  {
   "cell_type": "code",
   "execution_count": 9,
   "metadata": {
    "colab": {
     "base_uri": "https://localhost:8080/",
     "height": 330
    },
    "colab_type": "code",
    "id": "izMZc9_hCjQ2",
    "outputId": "fd432543-9b50-4569-95ef-d6e42c069553"
   },
   "outputs": [
    {
     "name": "stdout",
     "output_type": "stream",
     "text": [
      "Model: \"sequential_2\"\n",
      "_________________________________________________________________\n",
      "Layer (type)                 Output Shape              Param #   \n",
      "=================================================================\n",
      "conv2d_2 (Conv2D)            (None, 24, 24, 32)        832       \n",
      "_________________________________________________________________\n",
      "conv2d_3 (Conv2D)            (None, 20, 20, 32)        25632     \n",
      "_________________________________________________________________\n",
      "flatten_2 (Flatten)          (None, 12800)             0         \n",
      "_________________________________________________________________\n",
      "dense_2 (Dense)              (None, 128)               1638528   \n",
      "_________________________________________________________________\n",
      "dense_3 (Dense)              (None, 10)                1290      \n",
      "=================================================================\n",
      "Total params: 1,666,282\n",
      "Trainable params: 1,666,282\n",
      "Non-trainable params: 0\n",
      "_________________________________________________________________\n"
     ]
    }
   ],
   "source": [
    "model = Sequential()\n",
    "model.add(Conv2D(32, (5,5), activation='sigmoid', input_shape=(x_dim, y_dim,1)))\n",
    "model.add(Conv2D(32, (5,5), activation='sigmoid', input_shape=(x_dim, y_dim,1)))\n",
    "model.add(Flatten())\n",
    "model.add(Dense(128, activation='sigmoid'))\n",
    "model.add(Dense(y_test.shape[1], activation='softmax'))\n",
    "model.summary()"
   ]
  },
  {
   "cell_type": "code",
   "execution_count": 0,
   "metadata": {
    "colab": {},
    "colab_type": "code",
    "id": "rsISjU3FDAJf"
   },
   "outputs": [],
   "source": [
    "model.compile(optimizer=\"sgd\", loss='categorical_crossentropy', metrics=['accuracy'])"
   ]
  },
  {
   "cell_type": "code",
   "execution_count": 11,
   "metadata": {
    "colab": {
     "base_uri": "https://localhost:8080/",
     "height": 191
    },
    "colab_type": "code",
    "id": "vz4odsPvDBSH",
    "outputId": "19fd553f-cebc-4cf2-818e-de88358cbd9b"
   },
   "outputs": [
    {
     "name": "stdout",
     "output_type": "stream",
     "text": [
      "Epoch 1/5\n",
      "60000/60000 [==============================] - 153s 3ms/step - loss: 2.3086 - accuracy: 0.1075\n",
      "Epoch 2/5\n",
      "60000/60000 [==============================] - 153s 3ms/step - loss: 2.3002 - accuracy: 0.1170\n",
      "Epoch 3/5\n",
      "60000/60000 [==============================] - 152s 3ms/step - loss: 2.2913 - accuracy: 0.1313\n",
      "Epoch 4/5\n",
      "60000/60000 [==============================] - 153s 3ms/step - loss: 2.2474 - accuracy: 0.2205\n",
      "Epoch 5/5\n",
      "60000/60000 [==============================] - 153s 3ms/step - loss: 1.7839 - accuracy: 0.5653\n"
     ]
    }
   ],
   "source": [
    "history = model.fit(x_train, y_train, batch_size=128, epochs=5)"
   ]
  },
  {
   "cell_type": "code",
   "execution_count": 12,
   "metadata": {
    "colab": {
     "base_uri": "https://localhost:8080/",
     "height": 69
    },
    "colab_type": "code",
    "id": "RpfzspluDH1e",
    "outputId": "604b3df3-9d53-4a1a-86a6-65bb4891b2ed"
   },
   "outputs": [
    {
     "name": "stdout",
     "output_type": "stream",
     "text": [
      "10000/10000 [==============================] - 7s 656us/step\n",
      "Test loss: 1.2022727409362792\n",
      "Test accuracy: 0.7851999998092651\n"
     ]
    }
   ],
   "source": [
    "score = model.evaluate(x_test, y_test)\n",
    "print('Test loss:', score[0])\n",
    "print('Test accuracy:', score[1])"
   ]
  },
  {
   "cell_type": "markdown",
   "metadata": {
    "colab_type": "text",
    "id": "E_5YW-5KGYJ-"
   },
   "source": [
    "\n",
    "\n",
    "*   Overall test accuracy has decreased from 90% to 78%\n",
    "\n",
    "\n",
    "*   Significient increase in Training time is increased - taking 3 ms each \n",
    "\n",
    "\n"
   ]
  },
  {
   "cell_type": "markdown",
   "metadata": {
    "colab_type": "text",
    "id": "kn6NtP2Juc8e"
   },
   "source": [
    "Next iteration, will try to use MaxPooling to increase training speed - MaxPooling2D(pool_size=2)"
   ]
  },
  {
   "cell_type": "code",
   "execution_count": 20,
   "metadata": {
    "colab": {
     "base_uri": "https://localhost:8080/",
     "height": 330
    },
    "colab_type": "code",
    "id": "RuslGFDEuadk",
    "outputId": "07c2e975-0eab-43be-8b57-df9ceac7fb50"
   },
   "outputs": [
    {
     "name": "stdout",
     "output_type": "stream",
     "text": [
      "Model: \"sequential_5\"\n",
      "_________________________________________________________________\n",
      "Layer (type)                 Output Shape              Param #   \n",
      "=================================================================\n",
      "conv2d_8 (Conv2D)            (None, 24, 24, 32)        832       \n",
      "_________________________________________________________________\n",
      "conv2d_9 (Conv2D)            (None, 20, 20, 32)        25632     \n",
      "_________________________________________________________________\n",
      "flatten_5 (Flatten)          (None, 12800)             0         \n",
      "_________________________________________________________________\n",
      "dense_8 (Dense)              (None, 128)               1638528   \n",
      "_________________________________________________________________\n",
      "dense_9 (Dense)              (None, 10)                1290      \n",
      "=================================================================\n",
      "Total params: 1,666,282\n",
      "Trainable params: 1,666,282\n",
      "Non-trainable params: 0\n",
      "_________________________________________________________________\n"
     ]
    }
   ],
   "source": [
    "from keras.layers import MaxPooling2D\n",
    "model = Sequential()\n",
    "model.add(Conv2D(32, (5,5), activation='sigmoid', input_shape=(x_dim, y_dim,1)))\n",
    "MaxPooling2D(pool_size=2)\n",
    "model.add(Conv2D(32, (5,5), activation='sigmoid', input_shape=(x_dim, y_dim,1)))\n",
    "MaxPooling2D(pool_size=2)\n",
    "model.add(Flatten())\n",
    "model.add(Dense(128, activation='sigmoid'))\n",
    "MaxPooling2D(pool_size=2)\n",
    "model.add(Dense(y_test.shape[1], activation='softmax'))\n",
    "MaxPooling2D(pool_size=2)\n",
    "model.summary()"
   ]
  },
  {
   "cell_type": "code",
   "execution_count": 0,
   "metadata": {
    "colab": {},
    "colab_type": "code",
    "id": "JfjWUfzMveKR"
   },
   "outputs": [],
   "source": [
    "model.compile(optimizer=\"sgd\", loss='categorical_crossentropy', metrics=['accuracy'])"
   ]
  },
  {
   "cell_type": "code",
   "execution_count": 22,
   "metadata": {
    "colab": {
     "base_uri": "https://localhost:8080/",
     "height": 191
    },
    "colab_type": "code",
    "id": "7bQBnR_HveYO",
    "outputId": "257475cf-31af-4494-885c-2ae183230e30"
   },
   "outputs": [
    {
     "name": "stdout",
     "output_type": "stream",
     "text": [
      "Epoch 1/5\n",
      "60000/60000 [==============================] - 154s 3ms/step - loss: 2.3062 - accuracy: 0.1091\n",
      "Epoch 2/5\n",
      "60000/60000 [==============================] - 154s 3ms/step - loss: 2.2990 - accuracy: 0.1161\n",
      "Epoch 3/5\n",
      "60000/60000 [==============================] - 154s 3ms/step - loss: 2.2830 - accuracy: 0.1485\n",
      "Epoch 4/5\n",
      "60000/60000 [==============================] - 153s 3ms/step - loss: 2.1668 - accuracy: 0.3516\n",
      "Epoch 5/5\n",
      "60000/60000 [==============================] - 153s 3ms/step - loss: 1.3579 - accuracy: 0.7117\n"
     ]
    }
   ],
   "source": [
    "history = model.fit(x_train, y_train, batch_size=128, epochs=5)"
   ]
  },
  {
   "cell_type": "code",
   "execution_count": 23,
   "metadata": {
    "colab": {
     "base_uri": "https://localhost:8080/",
     "height": 69
    },
    "colab_type": "code",
    "id": "AG-U2Y3fveig",
    "outputId": "8b46a338-c0b9-4e98-eabc-0900a86cc246"
   },
   "outputs": [
    {
     "name": "stdout",
     "output_type": "stream",
     "text": [
      "10000/10000 [==============================] - 7s 665us/step\n",
      "Test loss: 0.8912634126663208\n",
      "Test accuracy: 0.800599992275238\n"
     ]
    }
   ],
   "source": [
    "score = model.evaluate(x_test, y_test)\n",
    "print('Test loss:', score[0])\n",
    "print('Test accuracy:', score[1])"
   ]
  },
  {
   "cell_type": "markdown",
   "metadata": {
    "colab_type": "text",
    "id": "I76CXvLS2DNf"
   },
   "source": [
    "Not seen much improvement by MaxPooling2D however some improvement observed in Loss.\n",
    "Next tyring to add epochs to observe how it is affecting the loss."
   ]
  },
  {
   "cell_type": "code",
   "execution_count": 27,
   "metadata": {
    "colab": {
     "base_uri": "https://localhost:8080/",
     "height": 364
    },
    "colab_type": "code",
    "id": "DbOsLltY1Ahr",
    "outputId": "f68f9da5-a4ae-48b6-d659-3ee36b7213ae"
   },
   "outputs": [
    {
     "name": "stdout",
     "output_type": "stream",
     "text": [
      "Epoch 1/10\n",
      "60000/60000 [==============================] - 153s 3ms/step - loss: 0.7206 - accuracy: 0.8236\n",
      "Epoch 2/10\n",
      "60000/60000 [==============================] - 153s 3ms/step - loss: 0.5595 - accuracy: 0.8545\n",
      "Epoch 3/10\n",
      "60000/60000 [==============================] - 154s 3ms/step - loss: 0.4829 - accuracy: 0.8689\n",
      "Epoch 4/10\n",
      "60000/60000 [==============================] - 154s 3ms/step - loss: 0.4364 - accuracy: 0.8793\n",
      "Epoch 5/10\n",
      "60000/60000 [==============================] - 154s 3ms/step - loss: 0.4045 - accuracy: 0.8863\n",
      "Epoch 6/10\n",
      "60000/60000 [==============================] - 154s 3ms/step - loss: 0.3806 - accuracy: 0.8907\n",
      "Epoch 7/10\n",
      "60000/60000 [==============================] - 154s 3ms/step - loss: 0.3619 - accuracy: 0.8959\n",
      "Epoch 8/10\n",
      "60000/60000 [==============================] - 154s 3ms/step - loss: 0.3462 - accuracy: 0.8995\n",
      "Epoch 9/10\n",
      "60000/60000 [==============================] - 154s 3ms/step - loss: 0.3324 - accuracy: 0.9033\n",
      "Epoch 10/10\n",
      "60000/60000 [==============================] - 154s 3ms/step - loss: 0.3206 - accuracy: 0.9062\n"
     ]
    }
   ],
   "source": [
    "history = model.fit(x_train, y_train, batch_size=128, epochs=10)"
   ]
  },
  {
   "cell_type": "code",
   "execution_count": 28,
   "metadata": {
    "colab": {
     "base_uri": "https://localhost:8080/",
     "height": 69
    },
    "colab_type": "code",
    "id": "wDe99L_H4sMy",
    "outputId": "38f01b59-036e-493c-9f7d-20056591e2e2"
   },
   "outputs": [
    {
     "name": "stdout",
     "output_type": "stream",
     "text": [
      "10000/10000 [==============================] - 7s 675us/step\n",
      "Test loss: 0.30378393540382387\n",
      "Test accuracy: 0.911899983882904\n"
     ]
    }
   ],
   "source": [
    "score = model.evaluate(x_test, y_test)\n",
    "print('Test loss:', score[0])\n",
    "print('Test accuracy:', score[1])"
   ]
  },
  {
   "cell_type": "markdown",
   "metadata": {
    "colab_type": "text",
    "id": "NSubwBZS0gHU"
   },
   "source": [
    "Not seen much improvement by MaxPooling2D in execution time however there is significient improvement in accuracy (89% vs 91%) & loss (0.89 vs 0.30)"
   ]
  },
  {
   "cell_type": "code",
   "execution_count": 36,
   "metadata": {
    "colab": {
     "base_uri": "https://localhost:8080/",
     "height": 295
    },
    "colab_type": "code",
    "id": "Go4C-eur7igx",
    "outputId": "bcc88ed7-787f-4abe-a937-ab83c6af9350"
   },
   "outputs": [
    {
     "name": "stdout",
     "output_type": "stream",
     "text": [
      "Model: \"sequential_9\"\n",
      "_________________________________________________________________\n",
      "Layer (type)                 Output Shape              Param #   \n",
      "=================================================================\n",
      "conv2d_13 (Conv2D)           (None, 24, 24, 32)        832       \n",
      "_________________________________________________________________\n",
      "flatten_9 (Flatten)          (None, 18432)             0         \n",
      "_________________________________________________________________\n",
      "dense_16 (Dense)             (None, 128)               2359424   \n",
      "_________________________________________________________________\n",
      "dense_17 (Dense)             (None, 10)                1290      \n",
      "=================================================================\n",
      "Total params: 2,361,546\n",
      "Trainable params: 2,361,546\n",
      "Non-trainable params: 0\n",
      "_________________________________________________________________\n"
     ]
    }
   ],
   "source": [
    "from keras.layers import MaxPooling2D\n",
    "model = Sequential()\n",
    "model.add(Conv2D(32, (5,5), activation='sigmoid', input_shape=(x_dim, y_dim,1)))\n",
    "MaxPooling2D(pool_size=2)\n",
    "model.add(Flatten())\n",
    "model.add(Dense(128, activation='sigmoid'))\n",
    "MaxPooling2D(pool_size=2)\n",
    "model.add(Dense(y_test.shape[1], activation='softmax'))\n",
    "MaxPooling2D(pool_size=2)\n",
    "model.summary()"
   ]
  },
  {
   "cell_type": "code",
   "execution_count": 0,
   "metadata": {
    "colab": {},
    "colab_type": "code",
    "id": "pSIMjjoS7itW"
   },
   "outputs": [],
   "source": [
    "model.compile(optimizer=\"sgd\", loss='categorical_crossentropy', metrics=['accuracy'])"
   ]
  },
  {
   "cell_type": "code",
   "execution_count": 38,
   "metadata": {
    "colab": {
     "base_uri": "https://localhost:8080/",
     "height": 191
    },
    "colab_type": "code",
    "id": "UbZUvqFm7i2N",
    "outputId": "d7394d46-35a0-4458-f007-937e44016eb2"
   },
   "outputs": [
    {
     "name": "stdout",
     "output_type": "stream",
     "text": [
      "Epoch 1/5\n",
      "60000/60000 [==============================] - 42s 699us/step - loss: 2.2756 - accuracy: 0.1518\n",
      "Epoch 2/5\n",
      "60000/60000 [==============================] - 42s 702us/step - loss: 1.9616 - accuracy: 0.4956\n",
      "Epoch 3/5\n",
      "60000/60000 [==============================] - 42s 697us/step - loss: 1.2049 - accuracy: 0.7606\n",
      "Epoch 4/5\n",
      "60000/60000 [==============================] - 42s 697us/step - loss: 0.7771 - accuracy: 0.8275\n",
      "Epoch 5/5\n",
      "60000/60000 [==============================] - 42s 699us/step - loss: 0.6056 - accuracy: 0.8540\n"
     ]
    }
   ],
   "source": [
    "history = model.fit(x_train, y_train, batch_size=128, epochs=5)"
   ]
  },
  {
   "cell_type": "code",
   "execution_count": 39,
   "metadata": {
    "colab": {
     "base_uri": "https://localhost:8080/",
     "height": 69
    },
    "colab_type": "code",
    "id": "DpbFkHM17i8x",
    "outputId": "abf81f41-6ac3-4217-8f72-dfce94498afe"
   },
   "outputs": [
    {
     "name": "stdout",
     "output_type": "stream",
     "text": [
      "10000/10000 [==============================] - 2s 236us/step\n",
      "Test loss: 0.5401181463241577\n",
      "Test accuracy: 0.8673999905586243\n"
     ]
    }
   ],
   "source": [
    "score = model.evaluate(x_test, y_test)\n",
    "print('Test loss:', score[0])\n",
    "print('Test accuracy:', score[1])"
   ]
  },
  {
   "cell_type": "markdown",
   "metadata": {
    "colab_type": "text",
    "id": "hsp3BRsa9tg5"
   },
   "source": [
    "Reduction of 1 CNN layer result - faster training, minor effect of loss & accuracy\n",
    "\n",
    "> Indented block\n",
    "\n"
   ]
  },
  {
   "cell_type": "code",
   "execution_count": 49,
   "metadata": {
    "colab": {
     "base_uri": "https://localhost:8080/",
     "height": 364
    },
    "colab_type": "code",
    "id": "jMCL2geF9oEG",
    "outputId": "e53bed04-1d62-4449-b617-13980032dbb6"
   },
   "outputs": [
    {
     "name": "stdout",
     "output_type": "stream",
     "text": [
      "Model: \"sequential_13\"\n",
      "_________________________________________________________________\n",
      "Layer (type)                 Output Shape              Param #   \n",
      "=================================================================\n",
      "conv2d_23 (Conv2D)           (None, 24, 24, 32)        832       \n",
      "_________________________________________________________________\n",
      "conv2d_24 (Conv2D)           (None, 20, 20, 32)        25632     \n",
      "_________________________________________________________________\n",
      "conv2d_25 (Conv2D)           (None, 16, 16, 32)        25632     \n",
      "_________________________________________________________________\n",
      "flatten_13 (Flatten)         (None, 8192)              0         \n",
      "_________________________________________________________________\n",
      "dense_24 (Dense)             (None, 128)               1048704   \n",
      "_________________________________________________________________\n",
      "dense_25 (Dense)             (None, 10)                1290      \n",
      "=================================================================\n",
      "Total params: 1,102,090\n",
      "Trainable params: 1,102,090\n",
      "Non-trainable params: 0\n",
      "_________________________________________________________________\n"
     ]
    }
   ],
   "source": [
    "from keras.layers import MaxPooling2D\n",
    "model = Sequential()\n",
    "model.add(Conv2D(32, (5,5), activation='sigmoid', input_shape=(x_dim, y_dim,1)))\n",
    "MaxPooling2D(pool_size=2)\n",
    "model.add(Conv2D(32, (5,5), activation='sigmoid', input_shape=(x_dim, y_dim,1)))\n",
    "model.add(Conv2D(32, (5,5), activation='sigmoid', input_shape=(x_dim, y_dim,1)))\n",
    "MaxPooling2D(pool_size=2)\n",
    "model.add(Flatten())\n",
    "model.add(Dense(128, activation='sigmoid'))\n",
    "MaxPooling2D(pool_size=2)\n",
    "model.add(Dense(y_test.shape[1], activation='softmax'))\n",
    "MaxPooling2D(pool_size=2)\n",
    "model.summary()"
   ]
  },
  {
   "cell_type": "code",
   "execution_count": 0,
   "metadata": {
    "colab": {},
    "colab_type": "code",
    "id": "ZPXnh9Xe9oNM"
   },
   "outputs": [],
   "source": [
    "model.compile(optimizer=\"sgd\", loss='categorical_crossentropy', metrics=['accuracy'])"
   ]
  },
  {
   "cell_type": "code",
   "execution_count": 52,
   "metadata": {
    "colab": {
     "base_uri": "https://localhost:8080/",
     "height": 191
    },
    "colab_type": "code",
    "id": "7xGgdmgr9oSR",
    "outputId": "80decdf3-5f30-42ac-b0cc-69cc5d32703e"
   },
   "outputs": [
    {
     "name": "stdout",
     "output_type": "stream",
     "text": [
      "Epoch 1/5\n",
      "60000/60000 [==============================] - 226s 4ms/step - loss: 2.3057 - accuracy: 0.1065\n",
      "Epoch 2/5\n",
      "60000/60000 [==============================] - 226s 4ms/step - loss: 2.3045 - accuracy: 0.1046\n",
      "Epoch 3/5\n",
      "60000/60000 [==============================] - 226s 4ms/step - loss: 2.3040 - accuracy: 0.1068\n",
      "Epoch 4/5\n",
      "60000/60000 [==============================] - 226s 4ms/step - loss: 2.3035 - accuracy: 0.1091\n",
      "Epoch 5/5\n",
      "60000/60000 [==============================] - 227s 4ms/step - loss: 2.3025 - accuracy: 0.1101\n"
     ]
    }
   ],
   "source": [
    "history = model.fit(x_train, y_train, batch_size=128, epochs=5)"
   ]
  },
  {
   "cell_type": "code",
   "execution_count": 53,
   "metadata": {
    "colab": {
     "base_uri": "https://localhost:8080/",
     "height": 69
    },
    "colab_type": "code",
    "id": "9E6cjTLS9oW5",
    "outputId": "9205fb0b-1c3b-465c-b39d-6352fa2d262f"
   },
   "outputs": [
    {
     "name": "stdout",
     "output_type": "stream",
     "text": [
      "10000/10000 [==============================] - 9s 932us/step\n",
      "Test loss: 2.3032748836517336\n",
      "Test accuracy: 0.11349999904632568\n"
     ]
    }
   ],
   "source": [
    "score = model.evaluate(x_test, y_test)\n",
    "print('Test loss:', score[0])\n",
    "print('Test accuracy:', score[1])"
   ]
  },
  {
   "cell_type": "markdown",
   "metadata": {
    "colab_type": "text",
    "id": "EsMVgufAEnmq"
   },
   "source": [
    "Addition of 1 CNN layer have adverse effect on all parameters - test time (3M ->4M) , accuracy (80% => 11%) , Loss (0.89 -> 2.3)"
   ]
  },
  {
   "cell_type": "markdown",
   "metadata": {
    "colab_type": "text",
    "id": "Mzd8f0GjGehK"
   },
   "source": [
    "# Task 3 - Improve models in Task 1 & Task 2\n",
    "# Using only convolutional layers, will hyper-parameter optimization (no of layer, no of the nodes, learning rate, etc) help in increasing the accuracy? If yes, implement the changes and report your results. "
   ]
  },
  {
   "cell_type": "code",
   "execution_count": 0,
   "metadata": {
    "colab": {},
    "colab_type": "code",
    "id": "5znv3ZXCGv8r"
   },
   "outputs": [],
   "source": [
    "from tensorflow.keras import optimizers"
   ]
  },
  {
   "cell_type": "code",
   "execution_count": 0,
   "metadata": {
    "colab": {},
    "colab_type": "code",
    "id": "c6417bqxHMOA"
   },
   "outputs": [],
   "source": [
    "lr = optimizers.schedules.ExponentialDecay(initial_learning_rate=0.5, decay_steps=10000, decay_rate=0.9)\n",
    "opt = optimizers.SGD(learning_rate=lr)"
   ]
  },
  {
   "cell_type": "code",
   "execution_count": 12,
   "metadata": {
    "colab": {
     "base_uri": "https://localhost:8080/",
     "height": 330
    },
    "colab_type": "code",
    "id": "WATW3uIQJXaS",
    "outputId": "3d04ced7-793e-46cf-ce22-9232442b8e61"
   },
   "outputs": [
    {
     "name": "stdout",
     "output_type": "stream",
     "text": [
      "Model: \"sequential_3\"\n",
      "_________________________________________________________________\n",
      "Layer (type)                 Output Shape              Param #   \n",
      "=================================================================\n",
      "conv2d_4 (Conv2D)            (None, 24, 24, 32)        832       \n",
      "_________________________________________________________________\n",
      "conv2d_5 (Conv2D)            (None, 20, 20, 32)        25632     \n",
      "_________________________________________________________________\n",
      "flatten_3 (Flatten)          (None, 12800)             0         \n",
      "_________________________________________________________________\n",
      "dense_4 (Dense)              (None, 128)               1638528   \n",
      "_________________________________________________________________\n",
      "dense_5 (Dense)              (None, 10)                1290      \n",
      "=================================================================\n",
      "Total params: 1,666,282\n",
      "Trainable params: 1,666,282\n",
      "Non-trainable params: 0\n",
      "_________________________________________________________________\n"
     ]
    }
   ],
   "source": [
    "model = Sequential()\n",
    "model.add(Conv2D(32, (5,5), activation='sigmoid', input_shape=(x_dim, y_dim,1)))\n",
    "model.add(Conv2D(32, (5,5), activation='sigmoid', input_shape=(x_dim, y_dim,1)))\n",
    "model.add(Flatten())\n",
    "model.add(Dense(128, activation='sigmoid'))\n",
    "model.add(Dense(y_test.shape[1], activation='softmax'))\n",
    "model.summary()"
   ]
  },
  {
   "cell_type": "code",
   "execution_count": 0,
   "metadata": {
    "colab": {},
    "colab_type": "code",
    "id": "-yC2L1SMJolp"
   },
   "outputs": [],
   "source": [
    "model.compile(optimizer=opt,loss='categorical_crossentropy',metrics=['accuracy'])"
   ]
  },
  {
   "cell_type": "code",
   "execution_count": 14,
   "metadata": {
    "colab": {
     "base_uri": "https://localhost:8080/",
     "height": 191
    },
    "colab_type": "code",
    "id": "YADu3ts2J1q1",
    "outputId": "04038a82-6dca-4179-e482-11ee1849ac73"
   },
   "outputs": [
    {
     "name": "stdout",
     "output_type": "stream",
     "text": [
      "Epoch 1/5\n",
      "60000/60000 [==============================] - 155s 3ms/step - loss: 2.3753 - accuracy: 0.1011\n",
      "Epoch 2/5\n",
      "60000/60000 [==============================] - 154s 3ms/step - loss: 0.7162 - accuracy: 0.7574\n",
      "Epoch 3/5\n",
      "60000/60000 [==============================] - 155s 3ms/step - loss: 0.1908 - accuracy: 0.9423\n",
      "Epoch 4/5\n",
      "60000/60000 [==============================] - 156s 3ms/step - loss: 0.1300 - accuracy: 0.9622\n",
      "Epoch 5/5\n",
      "60000/60000 [==============================] - 154s 3ms/step - loss: 0.0977 - accuracy: 0.9717\n"
     ]
    }
   ],
   "source": [
    "history = model.fit(x_train, y_train, batch_size=128, epochs=5)"
   ]
  },
  {
   "cell_type": "code",
   "execution_count": 15,
   "metadata": {
    "colab": {
     "base_uri": "https://localhost:8080/",
     "height": 69
    },
    "colab_type": "code",
    "id": "r9apE2D1RSAx",
    "outputId": "88048823-f620-4a79-f6b9-7af5e3d78c28"
   },
   "outputs": [
    {
     "name": "stdout",
     "output_type": "stream",
     "text": [
      "10000/10000 [==============================] - 7s 670us/step\n",
      "Test loss: 0.09087087419256568\n",
      "Test accuracy: 0.9728000164031982\n"
     ]
    }
   ],
   "source": [
    "score = model.evaluate(x_test, y_test)\n",
    "print('Test loss:', score[0])\n",
    "print('Test accuracy:', score[1])"
   ]
  },
  {
   "cell_type": "markdown",
   "metadata": {
    "colab_type": "text",
    "id": "Pq3iZEKAQ4GU"
   },
   "source": [
    "# **Final Results**\n",
    "\n",
    "Simple Neural Result -> accuracy 74%, Loss 1.48\n",
    "\n",
    "Basic CNN Result -> accuracy 90%, Loss 35%\n",
    "\n",
    "Taks 2 CNN Result -> accuracy 80%, Loss 8%\n",
    "\n",
    "Taks 3 CNN Result ->  accuracy 97%, Loss : 9%\n"
   ]
  },
  {
   "cell_type": "markdown",
   "metadata": {
    "colab_type": "text",
    "id": "ZYtugGHbWggi"
   },
   "source": [
    "# Task : 4 Change any parameter/architecture to improve the quality metrics"
   ]
  },
  {
   "cell_type": "code",
   "execution_count": 0,
   "metadata": {
    "colab": {},
    "colab_type": "code",
    "id": "r0dr--chhdT5"
   },
   "outputs": [],
   "source": [
    "from tensorflow.keras import optimizers\n",
    "from keras.layers import MaxPooling2D"
   ]
  },
  {
   "cell_type": "code",
   "execution_count": 0,
   "metadata": {
    "colab": {},
    "colab_type": "code",
    "id": "xO-xM6xIheNR"
   },
   "outputs": [],
   "source": [
    "lr = optimizers.schedules.ExponentialDecay(initial_learning_rate=0.1, decay_steps=10000, decay_rate=0.9)\n",
    "opt = optimizers.SGD(learning_rate=lr)"
   ]
  },
  {
   "cell_type": "code",
   "execution_count": 26,
   "metadata": {
    "colab": {
     "base_uri": "https://localhost:8080/",
     "height": 295
    },
    "colab_type": "code",
    "id": "zgFzXBDJhj3u",
    "outputId": "d6a3663c-231a-4162-ca01-fec5c62e8619"
   },
   "outputs": [
    {
     "name": "stdout",
     "output_type": "stream",
     "text": [
      "Model: \"sequential_6\"\n",
      "_________________________________________________________________\n",
      "Layer (type)                 Output Shape              Param #   \n",
      "=================================================================\n",
      "conv2d_10 (Conv2D)           (None, 24, 24, 32)        832       \n",
      "_________________________________________________________________\n",
      "conv2d_11 (Conv2D)           (None, 20, 20, 32)        25632     \n",
      "_________________________________________________________________\n",
      "flatten_6 (Flatten)          (None, 12800)             0         \n",
      "_________________________________________________________________\n",
      "dense_8 (Dense)              (None, 10)                128010    \n",
      "=================================================================\n",
      "Total params: 154,474\n",
      "Trainable params: 154,474\n",
      "Non-trainable params: 0\n",
      "_________________________________________________________________\n"
     ]
    }
   ],
   "source": [
    "model = Sequential()\n",
    "model.add(Conv2D(32, (5,5), activation='relu', input_shape=(x_dim, y_dim,1)))\n",
    "MaxPooling2D(pool_size=2)\n",
    "model.add(Conv2D(32, (5,5), activation='relu', input_shape=(x_dim, y_dim,1)))\n",
    "MaxPooling2D(pool_size=2)\n",
    "model.add(Flatten())\n",
    "model.add(Dense(y_test.shape[1], activation='softmax'))\n",
    "model.summary()"
   ]
  },
  {
   "cell_type": "code",
   "execution_count": 0,
   "metadata": {
    "colab": {},
    "colab_type": "code",
    "id": "X8alfpHahj_6"
   },
   "outputs": [],
   "source": [
    "model.compile(optimizer=opt,loss='categorical_crossentropy',metrics=['accuracy'])"
   ]
  },
  {
   "cell_type": "code",
   "execution_count": 28,
   "metadata": {
    "colab": {
     "base_uri": "https://localhost:8080/",
     "height": 191
    },
    "colab_type": "code",
    "id": "KXK_ing7hkNj",
    "outputId": "61925596-2dd5-4899-bcba-0514bbcf152d"
   },
   "outputs": [
    {
     "name": "stdout",
     "output_type": "stream",
     "text": [
      "Epoch 1/5\n",
      "60000/60000 [==============================] - 143s 2ms/step - loss: 0.2545 - accuracy: 0.9279\n",
      "Epoch 2/5\n",
      "60000/60000 [==============================] - 143s 2ms/step - loss: 0.0782 - accuracy: 0.9767\n",
      "Epoch 3/5\n",
      "60000/60000 [==============================] - 144s 2ms/step - loss: 0.0557 - accuracy: 0.9830\n",
      "Epoch 4/5\n",
      "60000/60000 [==============================] - 143s 2ms/step - loss: 0.0452 - accuracy: 0.9865\n",
      "Epoch 5/5\n",
      "60000/60000 [==============================] - 148s 2ms/step - loss: 0.0391 - accuracy: 0.9882\n"
     ]
    }
   ],
   "source": [
    "history = model.fit(x_train, y_train, batch_size=128, epochs=5)"
   ]
  },
  {
   "cell_type": "code",
   "execution_count": 29,
   "metadata": {
    "colab": {
     "base_uri": "https://localhost:8080/",
     "height": 69
    },
    "colab_type": "code",
    "id": "Gp679BgFv_mp",
    "outputId": "4ec787f7-bbd4-4e7d-c953-281d089aa115"
   },
   "outputs": [
    {
     "name": "stdout",
     "output_type": "stream",
     "text": [
      "10000/10000 [==============================] - 6s 609us/step\n",
      "Test loss: 0.047628800696111286\n",
      "Test accuracy: 0.9843000173568726\n"
     ]
    }
   ],
   "source": [
    "score = model.evaluate(x_test, y_test)\n",
    "print('Test loss:', score[0])\n",
    "print('Test accuracy:', score[1])"
   ]
  },
  {
   "cell_type": "code",
   "execution_count": 40,
   "metadata": {
    "colab": {
     "base_uri": "https://localhost:8080/",
     "height": 295
    },
    "colab_type": "code",
    "id": "pg51LhDX2SKF",
    "outputId": "f89dff69-06a2-45c8-da57-03326dcc077e"
   },
   "outputs": [
    {
     "name": "stdout",
     "output_type": "stream",
     "text": [
      "Model: \"sequential_11\"\n",
      "_________________________________________________________________\n",
      "Layer (type)                 Output Shape              Param #   \n",
      "=================================================================\n",
      "conv2d_20 (Conv2D)           (None, 24, 24, 32)        832       \n",
      "_________________________________________________________________\n",
      "conv2d_21 (Conv2D)           (None, 20, 20, 32)        25632     \n",
      "_________________________________________________________________\n",
      "flatten_11 (Flatten)         (None, 12800)             0         \n",
      "_________________________________________________________________\n",
      "dense_13 (Dense)             (None, 10)                128010    \n",
      "=================================================================\n",
      "Total params: 154,474\n",
      "Trainable params: 154,474\n",
      "Non-trainable params: 0\n",
      "_________________________________________________________________\n"
     ]
    }
   ],
   "source": [
    "from tensorflow import keras\n",
    "from tensorflow.keras import layers\n",
    "# opt = keras.optimizers.Adam(learning_rate=0.01)\n",
    "model = Sequential()\n",
    "model.add(Conv2D(32, (5,5), activation='relu', input_shape=(x_dim, y_dim,1)))\n",
    "MaxPooling2D(pool_size=2)\n",
    "model.add(Conv2D(32, (5,5), activation='relu', input_shape=(x_dim, y_dim,1)))\n",
    "MaxPooling2D(pool_size=2)\n",
    "model.add(Flatten())\n",
    "model.add(Dense(y_test.shape[1], activation='softmax'))\n",
    "model.summary()"
   ]
  },
  {
   "cell_type": "code",
   "execution_count": 0,
   "metadata": {
    "colab": {},
    "colab_type": "code",
    "id": "SXJcpmD92Xj6"
   },
   "outputs": [],
   "source": [
    "model.compile(optimizer='adam',loss='categorical_crossentropy',metrics=['accuracy'])"
   ]
  },
  {
   "cell_type": "code",
   "execution_count": 42,
   "metadata": {
    "colab": {
     "base_uri": "https://localhost:8080/",
     "height": 191
    },
    "colab_type": "code",
    "id": "ZC_3k4wt2X__",
    "outputId": "809ef316-217e-4d64-883e-d83e6bb24e54"
   },
   "outputs": [
    {
     "name": "stdout",
     "output_type": "stream",
     "text": [
      "Epoch 1/5\n",
      "60000/60000 [==============================] - 148s 2ms/step - loss: 0.1642 - accuracy: 0.9525\n",
      "Epoch 2/5\n",
      "60000/60000 [==============================] - 143s 2ms/step - loss: 0.0512 - accuracy: 0.9847\n",
      "Epoch 3/5\n",
      "60000/60000 [==============================] - 142s 2ms/step - loss: 0.0364 - accuracy: 0.9889\n",
      "Epoch 4/5\n",
      "60000/60000 [==============================] - 143s 2ms/step - loss: 0.0270 - accuracy: 0.9915\n",
      "Epoch 5/5\n",
      "60000/60000 [==============================] - 148s 2ms/step - loss: 0.0206 - accuracy: 0.9934\n"
     ]
    }
   ],
   "source": [
    "history = model.fit(x_train, y_train, batch_size=128, epochs=5)"
   ]
  },
  {
   "cell_type": "code",
   "execution_count": 35,
   "metadata": {
    "colab": {
     "base_uri": "https://localhost:8080/",
     "height": 69
    },
    "colab_type": "code",
    "id": "GWAhavun2YKY",
    "outputId": "262c32ea-0b42-4dbe-8871-10b31fdeb3f0"
   },
   "outputs": [
    {
     "name": "stdout",
     "output_type": "stream",
     "text": [
      "10000/10000 [==============================] - 6s 598us/step\n",
      "Test loss: 0.07575280610376649\n",
      "Test accuracy: 0.9783999919891357\n"
     ]
    }
   ],
   "source": [
    "score = model.evaluate(x_test, y_test)\n",
    "print('Test loss:', score[0])\n",
    "print('Test accuracy:', score[1])"
   ]
  },
  {
   "cell_type": "markdown",
   "metadata": {
    "colab_type": "text",
    "id": "ginvKUcu65er"
   },
   "source": [
    "# Finding & Summary"
   ]
  },
  {
   "cell_type": "markdown",
   "metadata": {
    "colab_type": "text",
    "id": "fwUWOHMB6-cY"
   },
   "source": [
    "\n",
    "*   The gradient descent problem was present in both fully-connected NN and CNN, as soon as they had more than 1 layer.\n",
    "*   Optimizing the hyper parameters, especially the learning rate, improved the training significantly.\n",
    "*   A key difference was the training time: The CNN (without any Max. Pooling  layers) had a much larger training time (~3min per epoch) compared to the FC models (~3s per layer).\n",
    "*   Maybe max. pooling can increase the training performance of the CNN, because by theory the CNN should perform much better then the FC on an image recognition task like this.\n",
    "*   Also a reduction of the layer size for the CNN might make it quicker while remaining as performant as the FC model.\n",
    "\n",
    "\n",
    "\n",
    "\n",
    "\n",
    "\n",
    "\n",
    "\n",
    "\n",
    "\n"
   ]
  },
  {
   "cell_type": "code",
   "execution_count": 0,
   "metadata": {
    "colab": {},
    "colab_type": "code",
    "id": "pSX7FmYK7mWQ"
   },
   "outputs": [],
   "source": []
  }
 ],
 "metadata": {
  "colab": {
   "collapsed_sections": [],
   "name": "20200520_Team4_CNN_Sandeep Bhagat.ipynb",
   "provenance": []
  },
  "kernelspec": {
   "display_name": "Python 3",
   "language": "python",
   "name": "python3"
  },
  "language_info": {
   "codemirror_mode": {
    "name": "ipython",
    "version": 3
   },
   "file_extension": ".py",
   "mimetype": "text/x-python",
   "name": "python",
   "nbconvert_exporter": "python",
   "pygments_lexer": "ipython3",
   "version": "3.6.10"
  }
 },
 "nbformat": 4,
 "nbformat_minor": 1
}
